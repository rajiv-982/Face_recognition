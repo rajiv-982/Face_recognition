{
 "cells": [
  {
   "cell_type": "code",
   "execution_count": 1,
   "id": "b44a9b14",
   "metadata": {},
   "outputs": [],
   "source": [
    "from keras.utils import to_categorical\n",
    "from keras_preprocessing.image import load_img\n",
    "from keras.models import Sequential\n",
    "from keras. layers import Dense, Conv2D, Dropout, Flatten, MaxPooling2D\n",
    "import os\n",
    "import pandas as pd\n",
    "import numpy as np\n"
   ]
  },
  {
   "cell_type": "code",
   "execution_count": 2,
   "id": "3da2416a",
   "metadata": {},
   "outputs": [],
   "source": [
    "# pip install keras_preprocessing\n"
   ]
  },
  {
   "cell_type": "code",
   "execution_count": 3,
   "id": "cfe50098",
   "metadata": {},
   "outputs": [],
   "source": [
    "Train_dir = 'Face2/Training'\n",
    "Test_dir = 'Face2/Testing'"
   ]
  },
  {
   "cell_type": "code",
   "execution_count": 4,
   "id": "71e57630",
   "metadata": {},
   "outputs": [],
   "source": [
    "def createdataframe(dir):\n",
    "    image_paths = []\n",
    "    labels = []\n",
    "    for label in os.listdir(dir):\n",
    "        for imagename in os.listdir(os.path.join(dir,label)):\n",
    "            image_paths.append(os.path.join (dir,label,imagename))\n",
    "            labels.append(label)\n",
    "        print(label,\"completed\")\n",
    "    return image_paths,labels"
   ]
  },
  {
   "cell_type": "code",
   "execution_count": 5,
   "id": "c10d3078",
   "metadata": {},
   "outputs": [
    {
     "name": "stdout",
     "output_type": "stream",
     "text": [
      "Angry completed\n",
      "Fear completed\n",
      "Happy completed\n",
      "Neutral completed\n",
      "Sad completed\n",
      "Suprise completed\n"
     ]
    }
   ],
   "source": [
    "train = pd.DataFrame()\n",
    "\n",
    "train['image'], train['label'] = createdataframe(Train_dir)"
   ]
  },
  {
   "cell_type": "code",
   "execution_count": 6,
   "id": "bdb98f68",
   "metadata": {},
   "outputs": [],
   "source": [
    "from tqdm.notebook import tqdm"
   ]
  },
  {
   "cell_type": "code",
   "execution_count": 7,
   "id": "30e3e7a5",
   "metadata": {},
   "outputs": [],
   "source": [
    "def extract_features(Face2):\n",
    "    features = []\n",
    "    for image in tqdm(Face2) :\n",
    "        img = load_img(image,grayscale = True)\n",
    "        img = np.array(img)\n",
    "        features.append( img)\n",
    "    features = np. array(features)\n",
    "    features = features. reshape(len(features),48,48,1)\n",
    "    return features\n",
    "    "
   ]
  },
  {
   "cell_type": "code",
   "execution_count": 8,
   "id": "b912dc8f",
   "metadata": {},
   "outputs": [
    {
     "data": {
      "application/vnd.jupyter.widget-view+json": {
       "model_id": "f112ccde7f05465793ae9b0113d81e57",
       "version_major": 2,
       "version_minor": 0
      },
      "text/plain": [
       "  0%|          | 0/28273 [00:00<?, ?it/s]"
      ]
     },
     "metadata": {},
     "output_type": "display_data"
    },
    {
     "name": "stderr",
     "output_type": "stream",
     "text": [
      "C:\\Users\\rajiv\\anaconda3\\lib\\site-packages\\keras_preprocessing\\image\\utils.py:107: UserWarning: grayscale is deprecated. Please use color_mode = \"grayscale\"\n",
      "  warnings.warn('grayscale is deprecated. Please use '\n"
     ]
    }
   ],
   "source": [
    "train_features = extract_features(train['image'])"
   ]
  },
  {
   "cell_type": "code",
   "execution_count": 9,
   "id": "fb86f5dc",
   "metadata": {},
   "outputs": [
    {
     "name": "stdout",
     "output_type": "stream",
     "text": [
      "Angry completed\n",
      "Fear completed\n",
      "Happy completed\n",
      "Neutral completed\n",
      "Sad completed\n",
      "Suprise completed\n"
     ]
    },
    {
     "data": {
      "application/vnd.jupyter.widget-view+json": {
       "model_id": "3ba6f750ea68409cb2914b6a89a54e60",
       "version_major": 2,
       "version_minor": 0
      },
      "text/plain": [
       "  0%|          | 0/7067 [00:00<?, ?it/s]"
      ]
     },
     "metadata": {},
     "output_type": "display_data"
    },
    {
     "name": "stderr",
     "output_type": "stream",
     "text": [
      "C:\\Users\\rajiv\\anaconda3\\lib\\site-packages\\keras_preprocessing\\image\\utils.py:107: UserWarning: grayscale is deprecated. Please use color_mode = \"grayscale\"\n",
      "  warnings.warn('grayscale is deprecated. Please use '\n"
     ]
    }
   ],
   "source": [
    "test = pd.DataFrame()\n",
    "\n",
    "test['image'], test['label'] = createdataframe(Test_dir)\n",
    "\n",
    "\n",
    "\n",
    "test_features = extract_features(test['image'])"
   ]
  },
  {
   "cell_type": "code",
   "execution_count": 10,
   "id": "1ec5f131",
   "metadata": {},
   "outputs": [],
   "source": [
    "x_train = train_features/255.0\n",
    "x_test = test_features/255.0"
   ]
  },
  {
   "cell_type": "code",
   "execution_count": 11,
   "id": "c08ebad1",
   "metadata": {},
   "outputs": [],
   "source": [
    "from sklearn.preprocessing import LabelEncoder"
   ]
  },
  {
   "cell_type": "code",
   "execution_count": 12,
   "id": "36b37b16",
   "metadata": {},
   "outputs": [
    {
     "data": {
      "text/html": [
       "<style>#sk-container-id-1 {color: black;background-color: white;}#sk-container-id-1 pre{padding: 0;}#sk-container-id-1 div.sk-toggleable {background-color: white;}#sk-container-id-1 label.sk-toggleable__label {cursor: pointer;display: block;width: 100%;margin-bottom: 0;padding: 0.3em;box-sizing: border-box;text-align: center;}#sk-container-id-1 label.sk-toggleable__label-arrow:before {content: \"▸\";float: left;margin-right: 0.25em;color: #696969;}#sk-container-id-1 label.sk-toggleable__label-arrow:hover:before {color: black;}#sk-container-id-1 div.sk-estimator:hover label.sk-toggleable__label-arrow:before {color: black;}#sk-container-id-1 div.sk-toggleable__content {max-height: 0;max-width: 0;overflow: hidden;text-align: left;background-color: #f0f8ff;}#sk-container-id-1 div.sk-toggleable__content pre {margin: 0.2em;color: black;border-radius: 0.25em;background-color: #f0f8ff;}#sk-container-id-1 input.sk-toggleable__control:checked~div.sk-toggleable__content {max-height: 200px;max-width: 100%;overflow: auto;}#sk-container-id-1 input.sk-toggleable__control:checked~label.sk-toggleable__label-arrow:before {content: \"▾\";}#sk-container-id-1 div.sk-estimator input.sk-toggleable__control:checked~label.sk-toggleable__label {background-color: #d4ebff;}#sk-container-id-1 div.sk-label input.sk-toggleable__control:checked~label.sk-toggleable__label {background-color: #d4ebff;}#sk-container-id-1 input.sk-hidden--visually {border: 0;clip: rect(1px 1px 1px 1px);clip: rect(1px, 1px, 1px, 1px);height: 1px;margin: -1px;overflow: hidden;padding: 0;position: absolute;width: 1px;}#sk-container-id-1 div.sk-estimator {font-family: monospace;background-color: #f0f8ff;border: 1px dotted black;border-radius: 0.25em;box-sizing: border-box;margin-bottom: 0.5em;}#sk-container-id-1 div.sk-estimator:hover {background-color: #d4ebff;}#sk-container-id-1 div.sk-parallel-item::after {content: \"\";width: 100%;border-bottom: 1px solid gray;flex-grow: 1;}#sk-container-id-1 div.sk-label:hover label.sk-toggleable__label {background-color: #d4ebff;}#sk-container-id-1 div.sk-serial::before {content: \"\";position: absolute;border-left: 1px solid gray;box-sizing: border-box;top: 0;bottom: 0;left: 50%;z-index: 0;}#sk-container-id-1 div.sk-serial {display: flex;flex-direction: column;align-items: center;background-color: white;padding-right: 0.2em;padding-left: 0.2em;position: relative;}#sk-container-id-1 div.sk-item {position: relative;z-index: 1;}#sk-container-id-1 div.sk-parallel {display: flex;align-items: stretch;justify-content: center;background-color: white;position: relative;}#sk-container-id-1 div.sk-item::before, #sk-container-id-1 div.sk-parallel-item::before {content: \"\";position: absolute;border-left: 1px solid gray;box-sizing: border-box;top: 0;bottom: 0;left: 50%;z-index: -1;}#sk-container-id-1 div.sk-parallel-item {display: flex;flex-direction: column;z-index: 1;position: relative;background-color: white;}#sk-container-id-1 div.sk-parallel-item:first-child::after {align-self: flex-end;width: 50%;}#sk-container-id-1 div.sk-parallel-item:last-child::after {align-self: flex-start;width: 50%;}#sk-container-id-1 div.sk-parallel-item:only-child::after {width: 0;}#sk-container-id-1 div.sk-dashed-wrapped {border: 1px dashed gray;margin: 0 0.4em 0.5em 0.4em;box-sizing: border-box;padding-bottom: 0.4em;background-color: white;}#sk-container-id-1 div.sk-label label {font-family: monospace;font-weight: bold;display: inline-block;line-height: 1.2em;}#sk-container-id-1 div.sk-label-container {text-align: center;}#sk-container-id-1 div.sk-container {/* jupyter's `normalize.less` sets `[hidden] { display: none; }` but bootstrap.min.css set `[hidden] { display: none !important; }` so we also need the `!important` here to be able to override the default hidden behavior on the sphinx rendered scikit-learn.org. See: https://github.com/scikit-learn/scikit-learn/issues/21755 */display: inline-block !important;position: relative;}#sk-container-id-1 div.sk-text-repr-fallback {display: none;}</style><div id=\"sk-container-id-1\" class=\"sk-top-container\"><div class=\"sk-text-repr-fallback\"><pre>LabelEncoder()</pre><b>In a Jupyter environment, please rerun this cell to show the HTML representation or trust the notebook. <br />On GitHub, the HTML representation is unable to render, please try loading this page with nbviewer.org.</b></div><div class=\"sk-container\" hidden><div class=\"sk-item\"><div class=\"sk-estimator sk-toggleable\"><input class=\"sk-toggleable__control sk-hidden--visually\" id=\"sk-estimator-id-1\" type=\"checkbox\" checked><label for=\"sk-estimator-id-1\" class=\"sk-toggleable__label sk-toggleable__label-arrow\">LabelEncoder</label><div class=\"sk-toggleable__content\"><pre>LabelEncoder()</pre></div></div></div></div></div>"
      ],
      "text/plain": [
       "LabelEncoder()"
      ]
     },
     "execution_count": 12,
     "metadata": {},
     "output_type": "execute_result"
    }
   ],
   "source": [
    "le  = LabelEncoder()\n",
    "le.fit(train['label'])"
   ]
  },
  {
   "cell_type": "code",
   "execution_count": 13,
   "id": "1f6de3c2",
   "metadata": {},
   "outputs": [],
   "source": [
    "y_train = le.transform(train['label'])\n",
    "y_test = le.transform(test['label'])"
   ]
  },
  {
   "cell_type": "code",
   "execution_count": 14,
   "id": "73fab7a8",
   "metadata": {},
   "outputs": [],
   "source": [
    "y_train = to_categorical(y_train,num_classes = 7)\n",
    "y_test =to_categorical(y_test,num_classes = 7)"
   ]
  },
  {
   "cell_type": "code",
   "execution_count": 15,
   "id": "8da9b4d6",
   "metadata": {},
   "outputs": [],
   "source": [
    "model = Sequential()\n",
    "# convolutional layers\n",
    "model.add(Conv2D(128, kernel_size=(3,3), activation='relu', input_shape=(48,48,1)))\n",
    "model.add(MaxPooling2D(pool_size=(2,2)))\n",
    "model.add(Dropout(0.4))\n",
    "\n",
    "model.add(Conv2D(256, kernel_size=(3,3), activation='relu'))\n",
    "model.add(MaxPooling2D(pool_size=(2,2)))\n",
    "model.add(Dropout(0.4))\n",
    "\n",
    "model.add(Conv2D(512, kernel_size=(3,3), activation='relu'))\n",
    "model.add(MaxPooling2D(pool_size=(2,2)))\n",
    "model.add(Dropout(0.4))\n",
    "\n",
    "model.add(Conv2D(512, kernel_size=(3,3), activation='relu'))\n",
    "model.add(MaxPooling2D(pool_size=(2,2)))\n",
    "model.add(Dropout(0.4))\n",
    "\n",
    "model.add(Flatten())\n",
    "# fully connected layers\n",
    "model.add(Dense(512, activation='relu'))\n",
    "model.add(Dropout(0.4))\n",
    "model.add(Dense(256, activation='relu'))\n",
    "model.add(Dropout(0.3))\n",
    "# output layer\n",
    "model.add(Dense(7, activation='softmax'))"
   ]
  },
  {
   "cell_type": "code",
   "execution_count": 16,
   "id": "e3ee2971",
   "metadata": {},
   "outputs": [],
   "source": [
    "model.compile(optimizer = 'adam', loss = 'categorical_crossentropy', metrics = 'accuracy' )"
   ]
  },
  {
   "cell_type": "code",
   "execution_count": 17,
   "id": "dd06870d",
   "metadata": {},
   "outputs": [
    {
     "name": "stdout",
     "output_type": "stream",
     "text": [
      "Epoch 1/100\n",
      "221/221 [==============================] - 309s 1s/step - loss: 1.7824 - accuracy: 0.2466 - val_loss: 1.7671 - val_accuracy: 0.2510\n",
      "Epoch 2/100\n",
      "221/221 [==============================] - 308s 1s/step - loss: 1.7642 - accuracy: 0.2538 - val_loss: 1.7485 - val_accuracy: 0.2605\n",
      "Epoch 3/100\n",
      "221/221 [==============================] - 300s 1s/step - loss: 1.7120 - accuracy: 0.2745 - val_loss: 1.6218 - val_accuracy: 0.3310\n",
      "Epoch 4/100\n",
      "221/221 [==============================] - 308s 1s/step - loss: 1.5812 - accuracy: 0.3484 - val_loss: 1.4327 - val_accuracy: 0.4272\n",
      "Epoch 5/100\n",
      "221/221 [==============================] - 354s 2s/step - loss: 1.4491 - accuracy: 0.4239 - val_loss: 1.3485 - val_accuracy: 0.4715\n",
      "Epoch 6/100\n",
      "221/221 [==============================] - 363s 2s/step - loss: 1.3840 - accuracy: 0.4545 - val_loss: 1.2846 - val_accuracy: 0.4885\n",
      "Epoch 7/100\n",
      "221/221 [==============================] - 343s 2s/step - loss: 1.3292 - accuracy: 0.4757 - val_loss: 1.2451 - val_accuracy: 0.5137\n",
      "Epoch 8/100\n",
      "221/221 [==============================] - 349s 2s/step - loss: 1.3019 - accuracy: 0.4884 - val_loss: 1.2002 - val_accuracy: 0.5315\n",
      "Epoch 9/100\n",
      "221/221 [==============================] - 366s 2s/step - loss: 1.2722 - accuracy: 0.5001 - val_loss: 1.1787 - val_accuracy: 0.5364\n",
      "Epoch 10/100\n",
      "221/221 [==============================] - 369s 2s/step - loss: 1.2521 - accuracy: 0.5112 - val_loss: 1.1649 - val_accuracy: 0.5480\n",
      "Epoch 11/100\n",
      "221/221 [==============================] - 364s 2s/step - loss: 1.2347 - accuracy: 0.5213 - val_loss: 1.1617 - val_accuracy: 0.5456\n",
      "Epoch 12/100\n",
      "221/221 [==============================] - 373s 2s/step - loss: 1.2090 - accuracy: 0.5307 - val_loss: 1.1412 - val_accuracy: 0.5550\n",
      "Epoch 13/100\n",
      "221/221 [==============================] - 369s 2s/step - loss: 1.1922 - accuracy: 0.5364 - val_loss: 1.1132 - val_accuracy: 0.5659\n",
      "Epoch 14/100\n",
      "221/221 [==============================] - 328s 1s/step - loss: 1.1861 - accuracy: 0.5404 - val_loss: 1.1030 - val_accuracy: 0.5691\n",
      "Epoch 15/100\n",
      "221/221 [==============================] - 317s 1s/step - loss: 1.1645 - accuracy: 0.5496 - val_loss: 1.0965 - val_accuracy: 0.5734\n",
      "Epoch 16/100\n",
      "221/221 [==============================] - 307s 1s/step - loss: 1.1494 - accuracy: 0.5524 - val_loss: 1.0901 - val_accuracy: 0.5748\n",
      "Epoch 17/100\n",
      "221/221 [==============================] - 304s 1s/step - loss: 1.1489 - accuracy: 0.5554 - val_loss: 1.0902 - val_accuracy: 0.5735\n",
      "Epoch 18/100\n",
      "221/221 [==============================] - 312s 1s/step - loss: 1.1303 - accuracy: 0.5635 - val_loss: 1.0854 - val_accuracy: 0.5745\n",
      "Epoch 19/100\n",
      "221/221 [==============================] - 311s 1s/step - loss: 1.1139 - accuracy: 0.5684 - val_loss: 1.0654 - val_accuracy: 0.5807\n",
      "Epoch 20/100\n",
      "221/221 [==============================] - 299s 1s/step - loss: 1.1175 - accuracy: 0.5701 - val_loss: 1.0651 - val_accuracy: 0.5833\n",
      "Epoch 21/100\n",
      "221/221 [==============================] - 299s 1s/step - loss: 1.0997 - accuracy: 0.5760 - val_loss: 1.0745 - val_accuracy: 0.5799\n",
      "Epoch 22/100\n",
      "221/221 [==============================] - 304s 1s/step - loss: 1.0991 - accuracy: 0.5783 - val_loss: 1.0477 - val_accuracy: 0.5940\n",
      "Epoch 23/100\n",
      "221/221 [==============================] - 302s 1s/step - loss: 1.0819 - accuracy: 0.5819 - val_loss: 1.0632 - val_accuracy: 0.5851\n",
      "Epoch 24/100\n",
      "221/221 [==============================] - 313s 1s/step - loss: 1.0757 - accuracy: 0.5863 - val_loss: 1.0428 - val_accuracy: 0.5913\n",
      "Epoch 25/100\n",
      "221/221 [==============================] - 19497s 89s/step - loss: 1.0718 - accuracy: 0.5924 - val_loss: 1.0486 - val_accuracy: 0.5898\n",
      "Epoch 26/100\n",
      "221/221 [==============================] - 309s 1s/step - loss: 1.0620 - accuracy: 0.5917 - val_loss: 1.0498 - val_accuracy: 0.5980\n",
      "Epoch 27/100\n",
      "221/221 [==============================] - 292s 1s/step - loss: 1.0636 - accuracy: 0.5945 - val_loss: 1.0483 - val_accuracy: 0.5940\n",
      "Epoch 28/100\n",
      "221/221 [==============================] - 298s 1s/step - loss: 1.0431 - accuracy: 0.5956 - val_loss: 1.0355 - val_accuracy: 0.5966\n",
      "Epoch 29/100\n",
      "221/221 [==============================] - 301s 1s/step - loss: 1.0408 - accuracy: 0.6008 - val_loss: 1.0311 - val_accuracy: 0.5984\n",
      "Epoch 30/100\n",
      "221/221 [==============================] - 303s 1s/step - loss: 1.0375 - accuracy: 0.6035 - val_loss: 1.0310 - val_accuracy: 0.5997\n",
      "Epoch 31/100\n",
      "221/221 [==============================] - 300s 1s/step - loss: 1.0295 - accuracy: 0.6020 - val_loss: 1.0309 - val_accuracy: 0.6032\n",
      "Epoch 32/100\n",
      "221/221 [==============================] - 322s 1s/step - loss: 1.0151 - accuracy: 0.6133 - val_loss: 1.0259 - val_accuracy: 0.6032\n",
      "Epoch 33/100\n",
      "221/221 [==============================] - 361s 2s/step - loss: 1.0105 - accuracy: 0.6138 - val_loss: 1.0303 - val_accuracy: 0.6049\n",
      "Epoch 34/100\n",
      "221/221 [==============================] - 359s 2s/step - loss: 1.0081 - accuracy: 0.6153 - val_loss: 1.0277 - val_accuracy: 0.6031\n",
      "Epoch 35/100\n",
      "221/221 [==============================] - 305s 1s/step - loss: 0.9973 - accuracy: 0.6229 - val_loss: 1.0221 - val_accuracy: 0.6012\n",
      "Epoch 36/100\n",
      "221/221 [==============================] - 2661s 12s/step - loss: 0.9930 - accuracy: 0.6195 - val_loss: 1.0226 - val_accuracy: 0.6027\n",
      "Epoch 37/100\n",
      "221/221 [==============================] - 327s 1s/step - loss: 0.9898 - accuracy: 0.6202 - val_loss: 1.0281 - val_accuracy: 0.6061\n",
      "Epoch 38/100\n",
      "221/221 [==============================] - 310s 1s/step - loss: 0.9815 - accuracy: 0.6249 - val_loss: 1.0147 - val_accuracy: 0.6073\n",
      "Epoch 39/100\n",
      "221/221 [==============================] - 316s 1s/step - loss: 0.9745 - accuracy: 0.6290 - val_loss: 1.0142 - val_accuracy: 0.6076\n",
      "Epoch 40/100\n",
      "221/221 [==============================] - 318s 1s/step - loss: 0.9711 - accuracy: 0.6282 - val_loss: 1.0212 - val_accuracy: 0.6099\n",
      "Epoch 41/100\n",
      "221/221 [==============================] - 318s 1s/step - loss: 0.9673 - accuracy: 0.6300 - val_loss: 1.0183 - val_accuracy: 0.6051\n",
      "Epoch 42/100\n",
      "221/221 [==============================] - 311s 1s/step - loss: 0.9624 - accuracy: 0.6343 - val_loss: 1.0108 - val_accuracy: 0.6124\n",
      "Epoch 43/100\n",
      "221/221 [==============================] - 308s 1s/step - loss: 0.9415 - accuracy: 0.6456 - val_loss: 1.0040 - val_accuracy: 0.6160\n",
      "Epoch 44/100\n",
      "221/221 [==============================] - 310s 1s/step - loss: 0.9420 - accuracy: 0.6438 - val_loss: 1.0077 - val_accuracy: 0.6147\n",
      "Epoch 45/100\n",
      "221/221 [==============================] - 309s 1s/step - loss: 0.9379 - accuracy: 0.6438 - val_loss: 0.9989 - val_accuracy: 0.6187\n",
      "Epoch 46/100\n",
      "221/221 [==============================] - 306s 1s/step - loss: 0.9330 - accuracy: 0.6481 - val_loss: 1.0036 - val_accuracy: 0.6198\n",
      "Epoch 47/100\n",
      "221/221 [==============================] - 305s 1s/step - loss: 0.9354 - accuracy: 0.6452 - val_loss: 1.0044 - val_accuracy: 0.6136\n",
      "Epoch 48/100\n",
      "221/221 [==============================] - 311s 1s/step - loss: 0.9305 - accuracy: 0.6503 - val_loss: 0.9961 - val_accuracy: 0.6237\n",
      "Epoch 49/100\n",
      "221/221 [==============================] - 315s 1s/step - loss: 0.9176 - accuracy: 0.6518 - val_loss: 1.0106 - val_accuracy: 0.6182\n",
      "Epoch 50/100\n",
      "221/221 [==============================] - 310s 1s/step - loss: 0.9132 - accuracy: 0.6551 - val_loss: 0.9976 - val_accuracy: 0.6189\n",
      "Epoch 51/100\n",
      "221/221 [==============================] - 307s 1s/step - loss: 0.9068 - accuracy: 0.6576 - val_loss: 0.9956 - val_accuracy: 0.6177\n",
      "Epoch 52/100\n",
      "221/221 [==============================] - 307s 1s/step - loss: 0.9013 - accuracy: 0.6587 - val_loss: 0.9974 - val_accuracy: 0.6153\n",
      "Epoch 53/100\n",
      "221/221 [==============================] - 301s 1s/step - loss: 0.8904 - accuracy: 0.6658 - val_loss: 0.9990 - val_accuracy: 0.6198\n",
      "Epoch 54/100\n",
      "221/221 [==============================] - 301s 1s/step - loss: 0.8923 - accuracy: 0.6619 - val_loss: 0.9979 - val_accuracy: 0.6151\n",
      "Epoch 55/100\n",
      "221/221 [==============================] - 304s 1s/step - loss: 0.8800 - accuracy: 0.6680 - val_loss: 0.9927 - val_accuracy: 0.6213\n",
      "Epoch 56/100\n",
      "221/221 [==============================] - 295s 1s/step - loss: 0.8851 - accuracy: 0.6666 - val_loss: 0.9921 - val_accuracy: 0.6240\n",
      "Epoch 57/100\n"
     ]
    },
    {
     "name": "stdout",
     "output_type": "stream",
     "text": [
      "221/221 [==============================] - 301s 1s/step - loss: 0.8799 - accuracy: 0.6738 - val_loss: 1.0054 - val_accuracy: 0.6174\n",
      "Epoch 58/100\n",
      "221/221 [==============================] - 298s 1s/step - loss: 0.8613 - accuracy: 0.6734 - val_loss: 0.9987 - val_accuracy: 0.6229\n",
      "Epoch 59/100\n",
      "221/221 [==============================] - 300s 1s/step - loss: 0.8649 - accuracy: 0.6746 - val_loss: 0.9983 - val_accuracy: 0.6171\n",
      "Epoch 60/100\n",
      "221/221 [==============================] - 298s 1s/step - loss: 0.8680 - accuracy: 0.6740 - val_loss: 0.9933 - val_accuracy: 0.6277\n",
      "Epoch 61/100\n",
      "221/221 [==============================] - 300s 1s/step - loss: 0.8569 - accuracy: 0.6799 - val_loss: 0.9971 - val_accuracy: 0.6318\n",
      "Epoch 62/100\n",
      "221/221 [==============================] - 301s 1s/step - loss: 0.8469 - accuracy: 0.6823 - val_loss: 0.9901 - val_accuracy: 0.6310\n",
      "Epoch 63/100\n",
      "221/221 [==============================] - 302s 1s/step - loss: 0.8446 - accuracy: 0.6815 - val_loss: 0.9992 - val_accuracy: 0.6253\n",
      "Epoch 64/100\n",
      "221/221 [==============================] - 296s 1s/step - loss: 0.8420 - accuracy: 0.6860 - val_loss: 1.0047 - val_accuracy: 0.6260\n",
      "Epoch 65/100\n",
      "221/221 [==============================] - 299s 1s/step - loss: 0.8415 - accuracy: 0.6885 - val_loss: 0.9984 - val_accuracy: 0.6301\n",
      "Epoch 66/100\n",
      "221/221 [==============================] - 295s 1s/step - loss: 0.8268 - accuracy: 0.6893 - val_loss: 0.9938 - val_accuracy: 0.6266\n",
      "Epoch 67/100\n",
      "221/221 [==============================] - 296s 1s/step - loss: 0.8250 - accuracy: 0.6889 - val_loss: 0.9897 - val_accuracy: 0.6349\n",
      "Epoch 68/100\n",
      "221/221 [==============================] - 318s 1s/step - loss: 0.8232 - accuracy: 0.6937 - val_loss: 0.9895 - val_accuracy: 0.6314\n",
      "Epoch 69/100\n",
      "221/221 [==============================] - 322s 1s/step - loss: 0.8133 - accuracy: 0.6966 - val_loss: 0.9989 - val_accuracy: 0.6233\n",
      "Epoch 70/100\n",
      "221/221 [==============================] - 320s 1s/step - loss: 0.8181 - accuracy: 0.6926 - val_loss: 0.9960 - val_accuracy: 0.6304\n",
      "Epoch 71/100\n",
      "221/221 [==============================] - 318s 1s/step - loss: 0.8053 - accuracy: 0.6996 - val_loss: 0.9979 - val_accuracy: 0.6311\n",
      "Epoch 72/100\n",
      "221/221 [==============================] - 310s 1s/step - loss: 0.8101 - accuracy: 0.6978 - val_loss: 1.0031 - val_accuracy: 0.6281\n",
      "Epoch 73/100\n",
      "221/221 [==============================] - 303s 1s/step - loss: 0.8044 - accuracy: 0.7002 - val_loss: 0.9933 - val_accuracy: 0.6304\n",
      "Epoch 74/100\n",
      "221/221 [==============================] - 293s 1s/step - loss: 0.7969 - accuracy: 0.7026 - val_loss: 0.9969 - val_accuracy: 0.6277\n",
      "Epoch 75/100\n",
      "221/221 [==============================] - 308s 1s/step - loss: 0.7857 - accuracy: 0.7076 - val_loss: 1.0051 - val_accuracy: 0.6332\n",
      "Epoch 76/100\n",
      "221/221 [==============================] - 305s 1s/step - loss: 0.7885 - accuracy: 0.7072 - val_loss: 0.9962 - val_accuracy: 0.6329\n",
      "Epoch 77/100\n",
      "221/221 [==============================] - 304s 1s/step - loss: 0.7888 - accuracy: 0.7065 - val_loss: 0.9936 - val_accuracy: 0.6342\n",
      "Epoch 78/100\n",
      "221/221 [==============================] - 299s 1s/step - loss: 0.7741 - accuracy: 0.7111 - val_loss: 1.0031 - val_accuracy: 0.6318\n",
      "Epoch 79/100\n",
      "221/221 [==============================] - 292s 1s/step - loss: 0.7782 - accuracy: 0.7121 - val_loss: 0.9968 - val_accuracy: 0.6317\n",
      "Epoch 80/100\n",
      "221/221 [==============================] - 289s 1s/step - loss: 0.7727 - accuracy: 0.7146 - val_loss: 0.9944 - val_accuracy: 0.6365\n",
      "Epoch 81/100\n",
      "221/221 [==============================] - 292s 1s/step - loss: 0.7678 - accuracy: 0.7159 - val_loss: 1.0041 - val_accuracy: 0.6315\n",
      "Epoch 82/100\n",
      "221/221 [==============================] - 289s 1s/step - loss: 0.7639 - accuracy: 0.7175 - val_loss: 0.9950 - val_accuracy: 0.6352\n",
      "Epoch 83/100\n",
      "221/221 [==============================] - 287s 1s/step - loss: 0.7602 - accuracy: 0.7178 - val_loss: 0.9912 - val_accuracy: 0.6339\n",
      "Epoch 84/100\n",
      "221/221 [==============================] - 283s 1s/step - loss: 0.7617 - accuracy: 0.7173 - val_loss: 0.9906 - val_accuracy: 0.6376\n",
      "Epoch 85/100\n",
      "221/221 [==============================] - 283s 1s/step - loss: 0.7461 - accuracy: 0.7248 - val_loss: 0.9988 - val_accuracy: 0.6351\n",
      "Epoch 86/100\n",
      "221/221 [==============================] - 285s 1s/step - loss: 0.7498 - accuracy: 0.7248 - val_loss: 1.0038 - val_accuracy: 0.6334\n",
      "Epoch 87/100\n",
      "221/221 [==============================] - 282s 1s/step - loss: 0.7374 - accuracy: 0.7286 - val_loss: 1.0025 - val_accuracy: 0.6368\n",
      "Epoch 88/100\n",
      "221/221 [==============================] - 282s 1s/step - loss: 0.7439 - accuracy: 0.7280 - val_loss: 1.0009 - val_accuracy: 0.6341\n",
      "Epoch 89/100\n",
      "221/221 [==============================] - 285s 1s/step - loss: 0.7378 - accuracy: 0.7281 - val_loss: 0.9989 - val_accuracy: 0.6339\n",
      "Epoch 90/100\n",
      "221/221 [==============================] - 280s 1s/step - loss: 0.7325 - accuracy: 0.7301 - val_loss: 1.0160 - val_accuracy: 0.6269\n",
      "Epoch 91/100\n",
      "221/221 [==============================] - 306s 1s/step - loss: 0.7308 - accuracy: 0.7330 - val_loss: 1.0120 - val_accuracy: 0.6295\n",
      "Epoch 92/100\n",
      "221/221 [==============================] - 307s 1s/step - loss: 0.7166 - accuracy: 0.7364 - val_loss: 1.0103 - val_accuracy: 0.6320\n",
      "Epoch 93/100\n",
      "221/221 [==============================] - 311s 1s/step - loss: 0.7205 - accuracy: 0.7364 - val_loss: 1.0079 - val_accuracy: 0.6363\n",
      "Epoch 94/100\n",
      "221/221 [==============================] - 299s 1s/step - loss: 0.7181 - accuracy: 0.7370 - val_loss: 1.0220 - val_accuracy: 0.6344\n",
      "Epoch 95/100\n",
      "221/221 [==============================] - 298s 1s/step - loss: 0.7117 - accuracy: 0.7398 - val_loss: 0.9969 - val_accuracy: 0.6375\n",
      "Epoch 96/100\n",
      "221/221 [==============================] - 295s 1s/step - loss: 0.7131 - accuracy: 0.7396 - val_loss: 0.9972 - val_accuracy: 0.6373\n",
      "Epoch 97/100\n",
      "221/221 [==============================] - 305s 1s/step - loss: 0.7094 - accuracy: 0.7407 - val_loss: 1.0038 - val_accuracy: 0.6346\n",
      "Epoch 98/100\n",
      "221/221 [==============================] - 301s 1s/step - loss: 0.7131 - accuracy: 0.7374 - val_loss: 1.0139 - val_accuracy: 0.6375\n",
      "Epoch 99/100\n",
      "221/221 [==============================] - 331s 2s/step - loss: 0.7034 - accuracy: 0.7417 - val_loss: 1.0135 - val_accuracy: 0.6332\n",
      "Epoch 100/100\n",
      "221/221 [==============================] - 356s 2s/step - loss: 0.7020 - accuracy: 0.7454 - val_loss: 1.0087 - val_accuracy: 0.6353\n"
     ]
    },
    {
     "data": {
      "text/plain": [
       "<keras.src.callbacks.History at 0x21dc1009450>"
      ]
     },
     "execution_count": 17,
     "metadata": {},
     "output_type": "execute_result"
    }
   ],
   "source": [
    "model.fit(x= x_train,y = y_train, batch_size = 128, epochs = 100, validation_data = (x_test,y_test))"
   ]
  },
  {
   "cell_type": "code",
   "execution_count": 18,
   "id": "9583aff9",
   "metadata": {},
   "outputs": [
    {
     "name": "stderr",
     "output_type": "stream",
     "text": [
      "C:\\Users\\rajiv\\anaconda3\\lib\\site-packages\\keras\\src\\engine\\training.py:3079: UserWarning: You are saving your model as an HDF5 file via `model.save()`. This file format is considered legacy. We recommend using instead the native Keras format, e.g. `model.save('my_model.keras')`.\n",
      "  saving_api.save_model(\n"
     ]
    }
   ],
   "source": [
    "model_json = model.to_json()\n",
    "with open(\"emotiondetector.json\",'w') as json_file:\n",
    "    \n",
    "    json_file.write(model_json)\n",
    "model.save(\"emotiondetector.h5\")"
   ]
  },
  {
   "cell_type": "code",
   "execution_count": 19,
   "id": "b2758f3e",
   "metadata": {},
   "outputs": [],
   "source": [
    "from keras.models import model_from_json"
   ]
  },
  {
   "cell_type": "code",
   "execution_count": 20,
   "id": "05c095e4",
   "metadata": {},
   "outputs": [],
   "source": [
    "json_file = open(\"emotiondetector.json\", \"r\")\n",
    "model_json = json_file.read()\n",
    "json_file.close()\n",
    "model = model_from_json(model_json)\n",
    "model.load_weights(\"emotiondetector.h5\")"
   ]
  },
  {
   "cell_type": "code",
   "execution_count": 21,
   "id": "d0827fc3",
   "metadata": {},
   "outputs": [],
   "source": [
    "label = ['angry','disgust','fear','happy','neutral','sad','surprise']"
   ]
  },
  {
   "cell_type": "code",
   "execution_count": 22,
   "id": "aeb6364a",
   "metadata": {},
   "outputs": [],
   "source": [
    "def ef(image):\n",
    "    img = load_img(image,grayscale =  True )\n",
    "    feature = np.array(img)\n",
    "    feature = feature.reshape(1,48,48,1)\n",
    "    return feature/255.0"
   ]
  },
  {
   "cell_type": "code",
   "execution_count": 23,
   "id": "8f8947eb",
   "metadata": {},
   "outputs": [
    {
     "name": "stdout",
     "output_type": "stream",
     "text": [
      "original image is of sad\n"
     ]
    },
    {
     "name": "stderr",
     "output_type": "stream",
     "text": [
      "C:\\Users\\rajiv\\anaconda3\\lib\\site-packages\\keras_preprocessing\\image\\utils.py:107: UserWarning: grayscale is deprecated. Please use color_mode = \"grayscale\"\n",
      "  warnings.warn('grayscale is deprecated. Please use '\n"
     ]
    },
    {
     "name": "stdout",
     "output_type": "stream",
     "text": [
      "1/1 [==============================] - 0s 313ms/step\n",
      "model prediction is  angry\n"
     ]
    }
   ],
   "source": [
    "image = 'Face2/training/Angry/Angry-152.jpg'\n",
    "print(\"original image is of sad\")\n",
    "img = ef(image)\n",
    "pred = model.predict(img)\n",
    "pred_label = label[pred.argmax()]\n",
    "print(\"model prediction is \",pred_label)"
   ]
  },
  {
   "cell_type": "code",
   "execution_count": 24,
   "id": "4fa7d8d4",
   "metadata": {},
   "outputs": [],
   "source": [
    "import matplotlib.pyplot as plt\n",
    "%matplotlib inline"
   ]
  },
  {
   "cell_type": "code",
   "execution_count": 25,
   "id": "fd2e59f3",
   "metadata": {},
   "outputs": [
    {
     "name": "stdout",
     "output_type": "stream",
     "text": [
      "original image is of sad\n",
      "1/1 [==============================] - 0s 20ms/step\n",
      "model prediction is  neutral\n"
     ]
    },
    {
     "name": "stderr",
     "output_type": "stream",
     "text": [
      "C:\\Users\\rajiv\\anaconda3\\lib\\site-packages\\keras_preprocessing\\image\\utils.py:107: UserWarning: grayscale is deprecated. Please use color_mode = \"grayscale\"\n",
      "  warnings.warn('grayscale is deprecated. Please use '\n"
     ]
    },
    {
     "data": {
      "text/plain": [
       "<matplotlib.image.AxesImage at 0x21dc0f63730>"
      ]
     },
     "execution_count": 25,
     "metadata": {},
     "output_type": "execute_result"
    },
    {
     "data": {
      "image/png": "[encoded data removed]",
      "text/plain": [
       "<Figure size 640x480 with 1 Axes>"
      ]
     },
     "metadata": {},
     "output_type": "display_data"
    }
   ],
   "source": [
    "image = 'Face2/training/sad/Sad-56.jpg'\n",
    "print(\"original image is of sad\")\n",
    "img = ef(image)\n",
    "pred = model.predict(img)\n",
    "pred_label = label[pred.argmax()]\n",
    "print(\"model prediction is \",pred_label)\n",
    "plt.imshow(img.reshape(48,48),cmap='gray')"
   ]
  },
  {
   "cell_type": "code",
   "execution_count": 26,
   "id": "d9b2198f",
   "metadata": {},
   "outputs": [
    {
     "name": "stdout",
     "output_type": "stream",
     "text": [
      "original image is of fear\n",
      "1/1 [==============================] - 0s 24ms/step\n",
      "model prediction is  sad\n"
     ]
    },
    {
     "data": {
      "text/plain": [
       "<matplotlib.image.AxesImage at 0x21dc518c6d0>"
      ]
     },
     "execution_count": 26,
     "metadata": {},
     "output_type": "execute_result"
    },
    {
     "data": {
      "image/png": "[encoded data removed]",
      "text/plain": [
       "<Figure size 640x480 with 1 Axes>"
      ]
     },
     "metadata": {},
     "output_type": "display_data"
    }
   ],
   "source": [
    "image = 'Face2/training/Fear/Fear-2.jpg'\n",
    "print(\"original image is of fear\")\n",
    "img = ef(image)\n",
    "pred = model.predict(img)\n",
    "pred_label = label[pred.argmax()]\n",
    "print(\"model prediction is \",pred_label)\n",
    "plt.imshow(img.reshape(48,48),cmap='gray')"
   ]
  },
  {
   "cell_type": "code",
   "execution_count": 27,
   "id": "ff64727e",
   "metadata": {},
   "outputs": [
    {
     "name": "stdout",
     "output_type": "stream",
     "text": [
      "original image is of disgust\n",
      "1/1 [==============================] - 0s 20ms/step\n",
      "model prediction is  sad\n"
     ]
    },
    {
     "data": {
      "text/plain": [
       "<matplotlib.image.AxesImage at 0x21dc51e71f0>"
      ]
     },
     "execution_count": 27,
     "metadata": {},
     "output_type": "execute_result"
    },
    {
     "data": {
      "image/png": "[encoded data removed]",
      "text/plain": [
       "<Figure size 640x480 with 1 Axes>"
      ]
     },
     "metadata": {},
     "output_type": "display_data"
    }
   ],
   "source": [
    "image = 'Face2/training/Suprise/Suprise-9.jpg'\n",
    "print(\"original image is of disgust\")\n",
    "img = ef(image)\n",
    "pred = model.predict(img)\n",
    "pred_label = label[pred.argmax()]\n",
    "print(\"model prediction is \",pred_label)\n",
    "plt.imshow(img.reshape(48,48),cmap='gray')"
   ]
  },
  {
   "cell_type": "code",
   "execution_count": null,
   "id": "e9889d6a",
   "metadata": {},
   "outputs": [],
   "source": []
  },
  {
   "cell_type": "code",
   "execution_count": null,
   "id": "5dfc8555",
   "metadata": {},
   "outputs": [],
   "source": []
  }
 ],
 "metadata": {
  "kernelspec": {
   "display_name": "Python 3 (ipykernel)",
   "language": "python",
   "name": "python3"
  },
  "language_info": {
   "codemirror_mode": {
    "name": "ipython",
    "version": 3
   },
   "file_extension": ".py",
   "mimetype": "text/x-python",
   "name": "python",
   "nbconvert_exporter": "python",
   "pygments_lexer": "ipython3",
   "version": "3.10.9"
  }
 },
 "nbformat": 4,
 "nbformat_minor": 5
}
